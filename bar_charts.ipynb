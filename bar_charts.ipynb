{
  "nbformat": 4,
  "nbformat_minor": 0,
  "metadata": {
    "colab": {
      "provenance": [],
      "authorship_tag": "ABX9TyPpZQW3rRzES+Mnzg8L5XXm",
      "include_colab_link": true
    },
    "kernelspec": {
      "name": "python3",
      "display_name": "Python 3"
    },
    "language_info": {
      "name": "python"
    }
  },
  "cells": [
    {
      "cell_type": "markdown",
      "metadata": {
        "id": "view-in-github",
        "colab_type": "text"
      },
      "source": [
        "<a href=\"https://colab.research.google.com/github/antoniogss/data_viz/blob/main/bar_charts.ipynb\" target=\"_parent\"><img src=\"https://colab.research.google.com/assets/colab-badge.svg\" alt=\"Open In Colab\"/></a>"
      ]
    },
    {
      "cell_type": "code",
      "execution_count": null,
      "metadata": {
        "id": "ALRyE1AwA3jH"
      },
      "outputs": [],
      "source": [
        "import pandas as pd\n",
        "import numpy as np\n",
        "import plotly.offline as pyo\n",
        "import plotly.graph_objs as go\n",
        "import google.colab as gc"
      ]
    },
    {
      "cell_type": "code",
      "source": [
        "from google.colab import drive\n",
        "drive.mount('/content/drive')"
      ],
      "metadata": {
        "colab": {
          "base_uri": "https://localhost:8080/"
        },
        "id": "zgrkbG1kvUAL",
        "outputId": "96c53745-36be-4b1f-fb74-3b33052fb48b"
      },
      "execution_count": null,
      "outputs": [
        {
          "output_type": "stream",
          "name": "stdout",
          "text": [
            "Mounted at /content/drive\n"
          ]
        }
      ]
    },
    {
      "cell_type": "code",
      "source": [
        "\"\"\"A bar chart presents categorical data with rectangular\n",
        "bars with heights (or lengths) proportional to the values \n",
        "that they represent. \n",
        "\"\"\"\n",
        "df = pd.read_csv('https://raw.githubusercontent.com/Pierian-Data/Plotly'+\n",
        "                 '-Dashboards-with-Dash/master/Data/2018WinterOlympics.csv'\n",
        "                )\n",
        "print(df.head())"
      ],
      "metadata": {
        "colab": {
          "base_uri": "https://localhost:8080/"
        },
        "id": "fnYBGA-aGisR",
        "outputId": "af44752a-c7cb-4ba3-e252-948aac9d4492"
      },
      "execution_count": null,
      "outputs": [
        {
          "output_type": "stream",
          "name": "stdout",
          "text": [
            "   Rank            NOC  Gold  Silver  Bronze  Total\n",
            "0     1         Norway    14      14      11     39\n",
            "1     2        Germany    14      10       7     31\n",
            "2     3         Canada    11       8      10     29\n",
            "3     4  United States     9       8       6     23\n",
            "4     5    Netherlands     8       6       6     20\n"
          ]
        }
      ]
    },
    {
      "cell_type": "code",
      "source": [
        "data = [go.Bar(x=df['NOC'],\n",
        "               y=df['Total']\n",
        "              )]\n",
        "layout = go.Layout(title='Medals')\n",
        "fig = go.Figure(data=data,\n",
        "                layout=layout\n",
        "               )\n",
        "pyo.plot(fig,\n",
        "         filename='bar_chart_1.html'\n",
        "        )"
      ],
      "metadata": {
        "colab": {
          "base_uri": "https://localhost:8080/",
          "height": 35
        },
        "id": "kPGZ0H9JHWou",
        "outputId": "574885d4-852f-4dbc-934c-405e32d72988"
      },
      "execution_count": null,
      "outputs": [
        {
          "output_type": "execute_result",
          "data": {
            "text/plain": [
              "'bar_chart_1.html'"
            ],
            "application/vnd.google.colaboratory.intrinsic+json": {
              "type": "string"
            }
          },
          "metadata": {},
          "execution_count": 13
        }
      ]
    },
    {
      "cell_type": "code",
      "source": [
        "#Nested bar chart\n",
        "trace1 = go.Bar(x=df['NOC'],\n",
        "               y=df['Gold'],\n",
        "               name='Gold', \n",
        "               marker={'color':'#FFD700'}\n",
        "              )\n",
        "trace2 = go.Bar(x=df['NOC'],\n",
        "               y=df['Silver'],\n",
        "               name='Silver', \n",
        "               marker={'color':'#9EA0A1'}\n",
        "              )\n",
        "trace3 = go.Bar(x=df['NOC'],\n",
        "               y=df['Bronze'],\n",
        "               name='Bronze', \n",
        "               marker={'color':'#CD7F32'}\n",
        "              )\n",
        "data = [trace1, \n",
        "        trace2, \n",
        "        trace3]\n",
        "layout = go.Layout(title='Medals')\n",
        "fig = go.Figure(data=data,\n",
        "                layout=layout\n",
        "               )\n",
        "pyo.plot(fig,\n",
        "         filename='bar_chart_2.html'\n",
        "        )"
      ],
      "metadata": {
        "colab": {
          "base_uri": "https://localhost:8080/",
          "height": 35
        },
        "id": "PHWkRRXqInbD",
        "outputId": "61884ce3-c7af-441b-d8ca-4a2848e3aa1f"
      },
      "execution_count": null,
      "outputs": [
        {
          "output_type": "execute_result",
          "data": {
            "text/plain": [
              "'bar_chart_2.html'"
            ],
            "application/vnd.google.colaboratory.intrinsic+json": {
              "type": "string"
            }
          },
          "metadata": {},
          "execution_count": 14
        }
      ]
    },
    {
      "cell_type": "code",
      "source": [
        "#Stacked bar chart\n",
        "trace1 = go.Bar(x=df['NOC'],\n",
        "               y=df['Gold'],\n",
        "               name='Gold', \n",
        "               marker={'color':'#FFD700'}\n",
        "              )\n",
        "trace2 = go.Bar(x=df['NOC'],\n",
        "               y=df['Silver'],\n",
        "               name='Silver', \n",
        "               marker={'color':'#9EA0A1'}\n",
        "              )\n",
        "trace3 = go.Bar(x=df['NOC'],\n",
        "               y=df['Bronze'],\n",
        "               name='Bronze', \n",
        "               marker={'color':'#CD7F32'}\n",
        "              )\n",
        "data = [trace1, \n",
        "        trace2, \n",
        "        trace3]\n",
        "layout = go.Layout(title='Medals',\n",
        "                   barmode='stack'\n",
        "                  )\n",
        "fig = go.Figure(data=data,\n",
        "                layout=layout\n",
        "               )\n",
        "pyo.plot(fig,\n",
        "         filename='bar_chart_3.html'\n",
        "        )"
      ],
      "metadata": {
        "colab": {
          "base_uri": "https://localhost:8080/",
          "height": 35
        },
        "id": "sKTHiHn6Kowl",
        "outputId": "9e2ebedb-6f7b-424f-ca5c-98ff07b01c8f"
      },
      "execution_count": null,
      "outputs": [
        {
          "output_type": "execute_result",
          "data": {
            "text/plain": [
              "'bar_chart_3.html'"
            ],
            "application/vnd.google.colaboratory.intrinsic+json": {
              "type": "string"
            }
          },
          "metadata": {},
          "execution_count": 15
        }
      ]
    },
    {
      "cell_type": "code",
      "source": [
        "\"\"\"Objective: Create a stacked bar chart from the file\n",
        "macksurvey.csv. Note that questions appear in the index\n",
        "(and should be used for the x-axis), while responses appear as colum labels. \n",
        "Extra credit: make a horizontal bar chat!\n",
        "\"\"\"\n",
        "df = pd.read_csv('https://raw.githubusercontent.com/'+\n",
        "                 'Pierian-Data/Plotly-Dashboards-with-Dash'+\n",
        "                 '/master/Data/mocksurvey.csv',\n",
        "                 index_col=0\n",
        "                )\n",
        "print(df.head())"
      ],
      "metadata": {
        "colab": {
          "base_uri": "https://localhost:8080/"
        },
        "id": "h43pNEBjLKmu",
        "outputId": "6a6380a8-dce7-41c6-ed54-61ddc97f3899"
      },
      "execution_count": null,
      "outputs": [
        {
          "output_type": "stream",
          "name": "stdout",
          "text": [
            "            Strongly Agree  Somewhat Agree  Neutral  Somewhat Disagree  \\\n",
            "Question 1            0.45            0.25     0.10               0.12   \n",
            "Question 2            0.12            0.07     0.48               0.18   \n",
            "Question 3            0.05            0.22     0.19               0.23   \n",
            "\n",
            "            Strongly Disagree  \n",
            "Question 1               0.08  \n",
            "Question 2               0.15  \n",
            "Question 3               0.31  \n"
          ]
        }
      ]
    },
    {
      "cell_type": "code",
      "source": [
        "#Vertical\n",
        "data = [go.Bar(x=df.index,\n",
        "               y=df[response],\n",
        "               name=response\n",
        "               ) for response in df.columns]\n",
        "layout = go.Layout(title='Survey Results', \n",
        "                   barmode='stack'\n",
        "                  )\n",
        "fig = go.Figure(data=data, \n",
        "                layout=layout\n",
        "                )\n",
        "pyo.plot(fig,\n",
        "         filename='bar_chart_4.html'\n",
        "        )"
      ],
      "metadata": {
        "colab": {
          "base_uri": "https://localhost:8080/",
          "height": 35
        },
        "id": "ChTHb0IwzGJb",
        "outputId": "b07044c7-7252-4ceb-ec08-4809ab55b6ad"
      },
      "execution_count": null,
      "outputs": [
        {
          "output_type": "execute_result",
          "data": {
            "text/plain": [
              "'bar_chart_4.html'"
            ],
            "application/vnd.google.colaboratory.intrinsic+json": {
              "type": "string"
            }
          },
          "metadata": {},
          "execution_count": 17
        }
      ]
    },
    {
      "cell_type": "code",
      "source": [
        "#Horizontal\n",
        "data = [go.Bar(x=df[response],\n",
        "               y=df.index,\n",
        "               orientation='h',\n",
        "               name=response\n",
        "               ) for response in df.columns]\n",
        "layout = go.Layout(title='Survey Results', \n",
        "                   barmode='stack'\n",
        "                  )\n",
        "fig = go.Figure(data=data, \n",
        "                layout=layout\n",
        "                )\n",
        "pyo.plot(fig,\n",
        "         filename='bar_chart_5.html'\n",
        "        )"
      ],
      "metadata": {
        "colab": {
          "base_uri": "https://localhost:8080/",
          "height": 35
        },
        "id": "UM7AvIXp0hwA",
        "outputId": "913fdd61-6a40-43b2-f3e8-22bf053475cb"
      },
      "execution_count": null,
      "outputs": [
        {
          "output_type": "execute_result",
          "data": {
            "text/plain": [
              "'bar_chart_5.html'"
            ],
            "application/vnd.google.colaboratory.intrinsic+json": {
              "type": "string"
            }
          },
          "metadata": {},
          "execution_count": 18
        }
      ]
    }
  ]
}