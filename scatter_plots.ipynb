{
  "nbformat": 4,
  "nbformat_minor": 0,
  "metadata": {
    "colab": {
      "provenance": [],
      "authorship_tag": "ABX9TyOQUcbL1iWFKv1cEJSIEAkq",
      "include_colab_link": true
    },
    "kernelspec": {
      "name": "python3",
      "display_name": "Python 3"
    },
    "language_info": {
      "name": "python"
    }
  },
  "cells": [
    {
      "cell_type": "markdown",
      "metadata": {
        "id": "view-in-github",
        "colab_type": "text"
      },
      "source": [
        "<a href=\"https://colab.research.google.com/github/antoniogss/data_viz/blob/main/scatter_plots.ipynb\" target=\"_parent\"><img src=\"https://colab.research.google.com/assets/colab-badge.svg\" alt=\"Open In Colab\"/></a>"
      ]
    },
    {
      "cell_type": "markdown",
      "source": [
        "Sacatter plots allow the comparison of two variables (x and y axis) for a set of data."
      ],
      "metadata": {
        "id": "NCJ9ZkOCU5rq"
      }
    },
    {
      "cell_type": "code",
      "execution_count": null,
      "metadata": {
        "id": "mDNsbv9dTBCV"
      },
      "outputs": [],
      "source": [
        "import numpy as np\n",
        "import plotly.offline as pyo\n",
        "import plotly.graph_objs as go"
      ]
    },
    {
      "cell_type": "code",
      "source": [
        "np.random.seed(42)\n",
        "random_x = np.random.randint(1,101,100)\n",
        "random_y = np.random.randint(1,101,100)"
      ],
      "metadata": {
        "id": "UiAISNkiV8dM"
      },
      "execution_count": null,
      "outputs": []
    },
    {
      "cell_type": "code",
      "source": [
        "data = [go.Scatter(x=random_x,\n",
        "                   y=random_y,\n",
        "                   mode='markers'\n",
        "                  )]\n",
        "pyo.plot(data,\n",
        "         filename='scatter_1.html'\n",
        "        )"
      ],
      "metadata": {
        "colab": {
          "base_uri": "https://localhost:8080/",
          "height": 35
        },
        "id": "Aw_AAQWJZd83",
        "outputId": "f4fdc122-3d14-431e-afbe-a81d6e303e01"
      },
      "execution_count": null,
      "outputs": [
        {
          "output_type": "execute_result",
          "data": {
            "text/plain": [
              "'scatter_1.html'"
            ],
            "application/vnd.google.colaboratory.intrinsic+json": {
              "type": "string"
            }
          },
          "metadata": {},
          "execution_count": 20
        }
      ]
    },
    {
      "cell_type": "code",
      "source": [
        "data = [go.Scatter(x=random_x,\n",
        "                   y=random_y,\n",
        "                   mode='markers'\n",
        "                  )]\n",
        "layout = go.Layout(title='Hello First Plot',\n",
        "                   xaxis={'title':'my x axis'},\n",
        "                   yaxis=dict(title='my y axis'), #most common!\n",
        "                   hovermode='closest' #allows to see both coordinates\n",
        "                  ) \n",
        "fig = go.Figure(data=data,\n",
        "                layout=layout\n",
        "               )\n",
        "pyo.plot(fig,\n",
        "         filename='scatter_2.html'\n",
        "        )"
      ],
      "metadata": {
        "colab": {
          "base_uri": "https://localhost:8080/",
          "height": 35
        },
        "id": "b2Zzd17UWdr0",
        "outputId": "e2607425-f267-488e-b22b-c6bbb102ddf1"
      },
      "execution_count": null,
      "outputs": [
        {
          "output_type": "execute_result",
          "data": {
            "text/plain": [
              "'scatter_2.html'"
            ],
            "application/vnd.google.colaboratory.intrinsic+json": {
              "type": "string"
            }
          },
          "metadata": {},
          "execution_count": 21
        }
      ]
    },
    {
      "cell_type": "code",
      "source": [
        "data = [go.Scatter(x=random_x,\n",
        "                   y=random_y,\n",
        "                   mode='markers',\n",
        "                   marker=dict(\n",
        "                       size=12,\n",
        "                       color='rgb(51,204,153)',\n",
        "                       symbol='pentagon',\n",
        "                       line={'width':2}\n",
        "                  ))]\n",
        "layout = go.Layout(title='Hello First Plot',\n",
        "                   xaxis={'title':'my x axis'},\n",
        "                   yaxis=dict(title='my y axis'), #most common!\n",
        "                   hovermode='closest' #allows to see both coordinates\n",
        "                  ) \n",
        "fig = go.Figure(data=data,\n",
        "                layout=layout\n",
        "               )\n",
        "pyo.plot(fig,\n",
        "         filename='scatter_3.html'\n",
        "        )"
      ],
      "metadata": {
        "colab": {
          "base_uri": "https://localhost:8080/",
          "height": 35
        },
        "id": "h7vZFPuobG8U",
        "outputId": "e8bfffbd-6df3-4124-bad6-70e81f682575"
      },
      "execution_count": null,
      "outputs": [
        {
          "output_type": "execute_result",
          "data": {
            "text/plain": [
              "'scatter_3.html'"
            ],
            "application/vnd.google.colaboratory.intrinsic+json": {
              "type": "string"
            }
          },
          "metadata": {},
          "execution_count": 22
        }
      ]
    }
  ]
}