{
  "nbformat": 4,
  "nbformat_minor": 0,
  "metadata": {
    "colab": {
      "provenance": [],
      "authorship_tag": "ABX9TyPh4uArp5RrLjOfK6Pt0t40",
      "include_colab_link": true
    },
    "kernelspec": {
      "name": "python3",
      "display_name": "Python 3"
    },
    "language_info": {
      "name": "python"
    }
  },
  "cells": [
    {
      "cell_type": "markdown",
      "metadata": {
        "id": "view-in-github",
        "colab_type": "text"
      },
      "source": [
        "<a href=\"https://colab.research.google.com/github/antoniogss/data_viz/blob/main/line_charts.ipynb\" target=\"_parent\"><img src=\"https://colab.research.google.com/assets/colab-badge.svg\" alt=\"Open In Colab\"/></a>"
      ]
    },
    {
      "cell_type": "code",
      "execution_count": null,
      "metadata": {
        "id": "KyPt6DEAdvxu"
      },
      "outputs": [],
      "source": [
        "import pandas as pd\n",
        "import numpy as np\n",
        "import plotly.offline as pyo\n",
        "import plotly.graph_objs as go\n",
        "import google.colab as gc"
      ]
    },
    {
      "cell_type": "code",
      "source": [
        "\"\"\"A line chart displays a series of data points (markers) connected by line segments. \n",
        "It's similar to a scatter plot except that the measurement points are ordered \n",
        "(typically by their x-axis value) and joined with straight line segments. Often used to visualize \n",
        "trend in data over intervals of time - known as a time series.\n",
        "\"\"\"\n",
        "np.random.seed(56)\n",
        "x_values = np.linspace(0,1,100)\n",
        "y_values = np.random.randn(100)"
      ],
      "metadata": {
        "id": "H7UkMRnlgMvu"
      },
      "execution_count": null,
      "outputs": []
    },
    {
      "cell_type": "code",
      "source": [
        "trace0 = go.Scatter(x=x_values,\n",
        "                   y=y_values+5,\n",
        "                   mode='markers',\n",
        "                   name='markers'\n",
        "                  )\n",
        "trace1 = go.Scatter(x=x_values,\n",
        "                    y=y_values,\n",
        "                    mode='lines',\n",
        "                    name='my lines'\n",
        "                  )\n",
        "trace2 = go.Scatter(x=x_values,\n",
        "                    y=y_values-5,\n",
        "                    mode='lines+markers',\n",
        "                    name='my favorite'\n",
        "                  )\n",
        "data = [trace0, trace1, trace2]\n",
        "layout = go.Layout(title='Line chart')\n",
        "fig = go.Figure(data=data,\n",
        "                layout=layout\n",
        "                )\n",
        "pyo.plot(fig,\n",
        "         filename='line_chart_1.html'\n",
        "        )"
      ],
      "metadata": {
        "id": "88i778yyguoU"
      },
      "execution_count": null,
      "outputs": []
    },
    {
      "cell_type": "code",
      "source": [
        "df = pd.read_csv('https://raw.githubusercontent.com/'+\n",
        "                 'Pierian-Data/Plotly-Dashboards-with-Dash/'+\n",
        "                 'master/SourceData/nst-est2017-alldata.csv',\n",
        "                )\n",
        "print(df.head())"
      ],
      "metadata": {
        "id": "u23wN2BzwQBe"
      },
      "execution_count": null,
      "outputs": []
    },
    {
      "cell_type": "code",
      "source": [
        "#Filtering\n",
        "df2 = df[df['DIVISION'] == '1']\n",
        "df2.set_index('NAME', inplace=True)\n",
        "list_of_pop_col = [col for col in df2.columns if col.startswith('POP')]\n",
        "df2 = df2[list_of_pop_col]\n",
        "print(df2.head())"
      ],
      "metadata": {
        "id": "S5UhL6GJx6ef"
      },
      "execution_count": null,
      "outputs": []
    },
    {
      "cell_type": "code",
      "source": [
        "data = [go.Scatter(x=df2.columns, \n",
        "                   y=df2.loc[name], \n",
        "                   mode='lines', \n",
        "                   name=name\n",
        "                   ) for name in df2.index]\n",
        "pyo.plot(data,\n",
        "         filename='line_chart_2.html'\n",
        "        )"
      ],
      "metadata": {
        "id": "3b9lsENMzwkw"
      },
      "execution_count": null,
      "outputs": []
    },
    {
      "cell_type": "code",
      "source": [
        "\"\"\"Objective: Using the file 2010YumaAZ.csv, develop a line Chart\n",
        "that plots seven days worth of temperature data on one graph.\n",
        "You can use a for loop to assign each day to its on trace.\n",
        "\"\"\"\n",
        "df = pd.read_csv('https://raw.githubusercontent.com/Pierian-Data'+\n",
        "                 '/Plotly-Dashboards-with-Dash/master/Data/2010YumaAZ.csv',\n",
        "                )\n",
        "print(df.head())"
      ],
      "metadata": {
        "id": "YFLXjDYd3dhj"
      },
      "execution_count": null,
      "outputs": []
    },
    {
      "cell_type": "code",
      "source": [
        "days = ['TUESDAY',\n",
        "        'WEDNESDAY', \n",
        "        'THURSDAY', \n",
        "        'SATURDAY', \n",
        "        'FRIDAY', \n",
        "        'SUNDAY', \n",
        "        'MONDAY']"
      ],
      "metadata": {
        "id": "4XOQgpWv8vy_"
      },
      "execution_count": null,
      "outputs": []
    },
    {
      "cell_type": "code",
      "source": [
        "#Use a for loop (or list comprehension to create traces for the data list)\n",
        "data = []\n",
        "for day in days:\n",
        "  trace = go.Scatter(x=df['LST_TIME'],\n",
        "                     y=df[df['DAY']==day]['T_HR_AVG'],\n",
        "                     mode='lines',\n",
        "                     name=day\n",
        "                    )\n",
        "  data.append(trace)\n",
        "layout = go.Layout(title='Daily temp avgs')\n",
        "fig = go.Figure(data=data,\n",
        "                layout=layout\n",
        "              )\n",
        "pyo.plot(fig,\n",
        "         filename='line_chart_3.html'\n",
        "        )"
      ],
      "metadata": {
        "id": "CxyMTv4T9hXd"
      },
      "execution_count": null,
      "outputs": []
    }
  ]
}